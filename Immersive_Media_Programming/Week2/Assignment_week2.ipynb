{
 "cells": [
  {
   "cell_type": "markdown",
   "metadata": {},
   "source": [
    "# Lab01_2025712567_TaeGyuRoh"
   ]
  },
  {
   "cell_type": "markdown",
   "metadata": {},
   "source": [
    "### EX1:Row and Column Slicing\n",
    "\n",
    "Create a 5x5 numpy array filled with numbers from 1 to 25. Extract the third column and the last row."
   ]
  },
  {
   "cell_type": "code",
   "execution_count": 10,
   "metadata": {},
   "outputs": [
    {
     "name": "stdout",
     "output_type": "stream",
     "text": [
      "원본 array : \n",
      "[[ 1  2  3  4  5]\n",
      " [ 6  7  8  9 10]\n",
      " [11 12 13 14 15]\n",
      " [16 17 18 19 20]\n",
      " [21 22 23 24 25]]\n",
      "\n",
      "세번째 열 : \n",
      "[ 3  8 13 18 23]\n",
      "\n",
      "마지막 행 : \n",
      "[21 22 23 24 25]\n"
     ]
    }
   ],
   "source": [
    "# Write Your Code Here!\n",
    "import numpy as np\n",
    "\n",
    "array = np.array(range(1,26)).reshape(5,5)\n",
    "print(f\"원본 array : \\n{array}\")\n",
    "print()\n",
    "\n",
    "third_columns = array[:,2]\n",
    "print(f\"세번째 열 : \\n{third_columns}\")\n",
    "print()\n",
    "\n",
    "last_row = array[4]\n",
    "print(f\"마지막 행 : \\n{last_row}\")"
   ]
  },
  {
   "cell_type": "markdown",
   "metadata": {},
   "source": [
    "# EX2: Element-wise Multiplication with Broadcasting\n",
    "\n",
    "Create a 3x3 numpy array where each row is [1, 2, 3]. Multiply this array element-wise by the column vector [1, 2, 3] using broadcasting."
   ]
  },
  {
   "cell_type": "code",
   "execution_count": 11,
   "metadata": {},
   "outputs": [
    {
     "name": "stdout",
     "output_type": "stream",
     "text": [
      "[[2 4 6]\n",
      " [2 4 6]\n",
      " [2 4 6]]\n"
     ]
    }
   ],
   "source": [
    "#Write Your Code Here!\n",
    "x = np.full((3,3), [1,2,3])\n",
    "y = np.array([1,2,3])\n",
    "\n",
    "w = x+y\n",
    "print(w)"
   ]
  }
 ],
 "metadata": {
  "kernelspec": {
   "display_name": "Python 3",
   "language": "python",
   "name": "python3"
  },
  "language_info": {
   "codemirror_mode": {
    "name": "ipython",
    "version": 3
   },
   "file_extension": ".py",
   "mimetype": "text/x-python",
   "name": "python",
   "nbconvert_exporter": "python",
   "pygments_lexer": "ipython3",
   "version": "3.11.6"
  }
 },
 "nbformat": 4,
 "nbformat_minor": 2
}
